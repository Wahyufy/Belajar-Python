{
 "cells": [
  {
   "cell_type": "code",
   "execution_count": 2,
   "id": "832f9600-353f-473e-98b5-5133430aaa02",
   "metadata": {
    "tags": []
   },
   "outputs": [
    {
     "ename": "SyntaxError",
     "evalue": "invalid syntax (1189829879.py, line 1)",
     "output_type": "error",
     "traceback": [
      "\u001b[0;36m  File \u001b[0;32m\"/tmp/ipykernel_933/1189829879.py\"\u001b[0;36m, line \u001b[0;32m1\u001b[0m\n\u001b[0;31m    name = Input(''What Is Your Name? '')\u001b[0m\n\u001b[0m                      ^\u001b[0m\n\u001b[0;31mSyntaxError\u001b[0m\u001b[0;31m:\u001b[0m invalid syntax\n"
     ]
    }
   ],
   "source": [
    "name = Input(''What Is Your Name? '')\n",
    "yournumber_ = int(''What Is Your Number? '')\n",
    "print(name + ' Likes ' + yournumber)"
   ]
  },
  {
   "cell_type": "code",
   "execution_count": null,
   "id": "1dfa7d01-cde4-44d1-88ca-52f0773bc0a7",
   "metadata": {},
   "outputs": [],
   "source": []
  }
 ],
 "metadata": {
  "kernelspec": {
   "display_name": "Python",
   "language": "python",
   "name": "conda-env-python-py"
  },
  "language_info": {
   "codemirror_mode": {
    "name": "ipython",
    "version": 3
   },
   "file_extension": ".py",
   "mimetype": "text/x-python",
   "name": "python",
   "nbconvert_exporter": "python",
   "pygments_lexer": "ipython3",
   "version": "3.7.12"
  }
 },
 "nbformat": 4,
 "nbformat_minor": 5
}
